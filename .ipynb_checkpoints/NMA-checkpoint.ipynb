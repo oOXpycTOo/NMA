{
 "cells": [
  {
   "cell_type": "code",
   "execution_count": 31,
   "metadata": {},
   "outputs": [],
   "source": [
    "import numpy as np\n",
    "from linalg_utils import *\n",
    "from GradientDescent import GradientDescent\n",
    "from decimal import Decimal"
   ]
  },
  {
   "cell_type": "code",
   "execution_count": 54,
   "metadata": {},
   "outputs": [],
   "source": [
    "A = np.genfromtxt(\"A.txt\", delimiter=\",\")\n",
    "b = np.genfromtxt(\"b.txt\", delimiter=\",\")"
   ]
  },
  {
   "cell_type": "code",
   "execution_count": 55,
   "metadata": {},
   "outputs": [
    {
     "data": {
      "text/plain": [
       "array([[ 0.4974,  0.    , -0.1299,  0.0914,  0.1523],\n",
       "       [-0.0305,  0.3248,  0.    , -0.0619,  0.0203],\n",
       "       [ 0.0102, -0.0914,  0.5887,  0.0112,  0.0355],\n",
       "       [ 0.0305,  0.    , -0.0741,  0.5887,  0.    ],\n",
       "       [ 0.0203, -0.0305,  0.1472, -0.0122,  0.4263]])"
      ]
     },
     "execution_count": 55,
     "metadata": {},
     "output_type": "execute_result"
    }
   ],
   "source": [
    "A"
   ]
  },
  {
   "cell_type": "code",
   "execution_count": 56,
   "metadata": {},
   "outputs": [
    {
     "data": {
      "text/plain": [
       "array([ 1.5875, -1.759 ,  1.4139,  1.7702, -2.0767])"
      ]
     },
     "execution_count": 56,
     "metadata": {},
     "output_type": "execute_result"
    }
   ],
   "source": [
    "b"
   ]
  },
  {
   "cell_type": "markdown",
   "metadata": {},
   "source": [
    "## Метод квадратного корня"
   ]
  },
  {
   "cell_type": "code",
   "execution_count": 57,
   "metadata": {},
   "outputs": [],
   "source": [
    "def cholessky_decomposition(A):\n",
    "    S = np.zeros_like(A)\n",
    "    S[0,0] = np.sqrt(A[0,0])\n",
    "    S[0,1:] = A[0,1:]/S[0,0]\n",
    "    for i in range(1, S.shape[0]):\n",
    "        S[i, i] = np.sqrt(np.abs(A[i, i] - np.sum(S[0:i, i]**2)))\n",
    "        for j in range(i+1, S.shape[1]):\n",
    "            S[i][j] = (A[i][j] - np.dot(S[0:i, i], S[0:i, j])) / S[i][i]\n",
    "    return S"
   ]
  },
  {
   "cell_type": "code",
   "execution_count": 58,
   "metadata": {},
   "outputs": [],
   "source": [
    "def solve(A, b):\n",
    "    U = cholessky_decomposition(A)\n",
    "    print(U)\n",
    "    y = back_substitution(U.T, b, \"top\")\n",
    "    x = back_substitution(U, y, \"bottom\")\n",
    "    return x"
   ]
  },
  {
   "cell_type": "code",
   "execution_count": 59,
   "metadata": {},
   "outputs": [
    {
     "name": "stdout",
     "output_type": "stream",
     "text": [
      "[[ 0.49978334 -0.02292559 -0.115809    0.13040098  0.16837468]\n",
      " [ 0.          0.3380143  -0.18032305 -0.0525634  -0.01713928]\n",
      " [ 0.          0.          0.58708792 -0.07677677  0.13673444]\n",
      " [ 0.          0.          0.          0.57737816 -0.00779161]\n",
      " [ 0.          0.          0.          0.          0.39899689]]\n",
      "[ 0.00000000e+00 -2.22044605e-16  0.00000000e+00  2.22044605e-16\n",
      " -8.88178420e-16]\n"
     ]
    }
   ],
   "source": [
    "x = solve(np.dot(A.T, A), np.dot(A.T, b))\n",
    "print(np.dot(A, x) - b)"
   ]
  },
  {
   "cell_type": "markdown",
   "metadata": {},
   "source": [
    "## Метод встречной прогонки"
   ]
  },
  {
   "cell_type": "code",
   "execution_count": 60,
   "metadata": {},
   "outputs": [],
   "source": [
    "class TriagonalMethod:\n",
    "    def solve(self, A, b):\n",
    "        self.alpha = np.zeros_like(b)\n",
    "        self.beta = np.zeros_like(b)\n",
    "        self.a, self.c, self.b, self.f, self.A = self.make_triagonal(np.copy(A), np.copy(b))\n",
    "        self.x = np.zeros_like(b)\n",
    "        self.size = len(b) - 1\n",
    "        middle = int(np.ceil(self.size/2))\n",
    "        self.solve_upper_part(middle)\n",
    "        self.solve_lower_part(middle)\n",
    "        self.substitute(middle)\n",
    "        if is_print:\n",
    "            matrix_str = \"\"\n",
    "            for row, b_i in zip(self.A, self.b):\n",
    "                matrix_str += \"||\"\n",
    "                matrix_str += \" \".join([\"{0:8.5f}\".format(x_i) for x_i in row])\n",
    "                matrix_str += \"| {0:8.5f}||\\n\".format(b_i)\n",
    "            solution_str = \"\\n\".join([\"x[{0}] = {1:8.5f}\".format(i, x_i)\n",
    "                                 for i, x_i in enumerate(x)])\n",
    "            discrepancy_str = \"\\n\".join([\"eps[{0}] = {1:14.5e}\".format(i, eps_i)\n",
    "                                    for i, eps_i in enumerate(discrepancy)])\n",
    "            print(\"Augmented Matrix is: \\n\" + matrix_str)\n",
    "            print(\"Solution is:\\n\" + solution_str)\n",
    "            print(\"Discrepancy is:\\n\" + discrepancy_str)\n",
    "        return self.x\n",
    "        \n",
    "    def solve_upper_part(self, middle):\n",
    "        self.alpha[0] = self.b[0]/self.c[0]\n",
    "        self.beta[0] = self.f[0]/self.c[0]\n",
    "        for i in range(1, middle+1):\n",
    "            denominator = (self.c[i] - self.a[i-1]*self.alpha[i-1])\n",
    "            self.alpha[i] = self.b[i]/denominator\n",
    "            self.beta[i] = (self.f[i] + self.a[i-1]*self.beta[i-1])/denominator\n",
    "    \n",
    "    def solve_lower_part(self, middle):\n",
    "        n = self.size\n",
    "        self.alpha[n] = self.a[n-1]/self.c[n]\n",
    "        self.beta[n] = self.f[n]/self.c[n]\n",
    "        for i in range(n-1, middle, -1):\n",
    "            denominator = (self.c[i] - self.b[i]*self.alpha[i+1])\n",
    "            self.alpha[i] = self.a[i-1]/denominator\n",
    "            self.beta[i] = (self.f[i] + self.b[i]*self.beta[i+1])/denominator\n",
    "    \n",
    "    def make_triagonal(self, A, b):\n",
    "        self.top_to_down_eliminate(A, b, bias=1)\n",
    "        self.bottom_to_top_eliminate(A, b, bias=-1)\n",
    "        return -A.diagonal(-1), A.diagonal(), -A.diagonal(1), b, A\n",
    "    \n",
    "    def bottom_to_top_eliminate(self, A, b, bias=0):\n",
    "        nrows, ncols = A.shape\n",
    "        for i in range(nrows-2+bias, -1, -1):\n",
    "            if A[nrows-1+bias, nrows-1] != 0:\n",
    "                factor = A[i, nrows-1] / A[nrows-1+bias, nrows-1]\n",
    "                A[i] = factor*A[nrows-1+bias] - A[i]\n",
    "                b[i] = factor*b[nrows-1+bias] - b[i]\n",
    "            else:\n",
    "                factor = A[i, nrows-1] / A[nrows-1, nrows-1]\n",
    "                A[i] = factor*A[nrows-1] - A[i]\n",
    "                b[i] = factor*b[nrows-1] - b[i]\n",
    "        if nrows is not 2:\n",
    "            self.bottom_to_top_eliminate(A[:nrows-1,:nrows-1], b[:nrows-1], bias)\n",
    "        \n",
    "    def top_to_down_eliminate(self, A, b, bias=0):\n",
    "        nrows, ncols = A.shape\n",
    "        in_case_of_zero_bias = bias\n",
    "        for i in range(bias+1, nrows):\n",
    "            if A[bias, 0] != 0:\n",
    "                factor = A[i, 0] / A[bias, 0]\n",
    "                A[i] = factor*A[bias] - A[i]\n",
    "                b[i] = factor*b[bias] - b[i]\n",
    "            else:\n",
    "                factor = A[i, 0] / A[bias-1, 0]\n",
    "                A[i] = factor*A[bias-1] - A[i]\n",
    "                b[i] = factor*b[bias-1] - b[i]\n",
    "        if nrows is not 2:\n",
    "            self.top_to_down_eliminate(A[1:, 1:], b[1:], bias)\n",
    "            \n",
    "    def substitute(self, middle): \n",
    "        denominator = 1 - self.alpha[middle]*self.alpha[middle+1]\n",
    "        self.x[middle] = (self.beta[middle] + self.alpha[middle]*self.beta[middle+1])/denominator\n",
    "        for i in range(middle-1, -1, -1):\n",
    "            self.x[i] = self.alpha[i]*self.x[i+1] + self.beta[i]\n",
    "        for i in range(middle+1, self.size+1):\n",
    "            self.x[i] = self.alpha[i]*self.x[i-1] + self.beta[i]\n",
    "        "
   ]
  },
  {
   "cell_type": "code",
   "execution_count": 61,
   "metadata": {},
   "outputs": [
    {
     "name": "stdout",
     "output_type": "stream",
     "text": [
      "[[-7.03123305e-01  2.50226743e+00  0.00000000e+00  0.00000000e+00\n",
      "   0.00000000e+00]\n",
      " [-3.05000000e-02  3.50690195e-01 -3.21085797e-01  0.00000000e+00\n",
      "   0.00000000e+00]\n",
      " [ 0.00000000e+00  1.72216393e-02 -1.94067224e-02  2.89097877e-02\n",
      "   0.00000000e+00]\n",
      " [ 0.00000000e+00  0.00000000e+00 -1.11769780e+01  7.05988486e-01\n",
      "  -7.77267468e-01]\n",
      " [ 0.00000000e+00 -2.77555756e-17  0.00000000e+00  3.42581169e-01\n",
      "  -4.15023850e-01]]\n",
      "[-13.52317438  -2.19689566  -0.0209541  -15.56044513   3.51775098]\n"
     ]
    },
    {
     "data": {
      "text/plain": [
       "array([ 4.9996129 , -3.99950458,  1.99890632,  2.99954266, -6.00005072])"
      ]
     },
     "execution_count": 61,
     "metadata": {},
     "output_type": "execute_result"
    }
   ],
   "source": [
    "TriagonalMethod().solve(A, b)"
   ]
  },
  {
   "cell_type": "code",
   "execution_count": 62,
   "metadata": {},
   "outputs": [
    {
     "data": {
      "text/plain": [
       "array([ 4.9996129 , -3.99950458,  1.99890632,  2.99954266, -6.00005072])"
      ]
     },
     "execution_count": 62,
     "metadata": {},
     "output_type": "execute_result"
    }
   ],
   "source": [
    "np.linalg.solve(A, b)"
   ]
  },
  {
   "cell_type": "markdown",
   "metadata": {},
   "source": [
    "## Метод отражений"
   ]
  },
  {
   "cell_type": "code",
   "execution_count": 63,
   "metadata": {},
   "outputs": [],
   "source": [
    "class HausholderMethod:\n",
    "    def __init__(self, A, b):\n",
    "        self.A = np.copy(A)\n",
    "        self.b = np.copy(b)\n",
    "        self.n = self.b.shape[0]\n",
    "        self.iteration = 0\n",
    "        \n",
    "    def decompose(self):\n",
    "        for k in range(0, self.n-1):\n",
    "            self.iteration = k\n",
    "            s = self.get_s()\n",
    "            e = self.get_e()\n",
    "            alpha = self.calculate_alpha(s)\n",
    "            omega = self.calculate_omega(alpha, s, e)\n",
    "            A_ = np.copy(self.A[k:,k+1:])\n",
    "            b_ = np.copy(self.b[k:])\n",
    "            self.A[k][k] = alpha\n",
    "            for i in range(k, self.n):\n",
    "                self.b[i] = b_[i-k] - 2*omega[i]*np.dot(b_, omega[k:])\n",
    "                for j in range(k+1, self.n):\n",
    "                    self.A[i][j] = self.A[i][j] - 2*omega[i]*np.dot(A_[:,j-(k+1)], omega[k:])\n",
    "            self.A[k+1:,k] = 0\n",
    "    \n",
    "    def solve(self, is_print=False):\n",
    "        self.decompose()\n",
    "        x = back_substitution(self.A, self.b)\n",
    "        discrepancy = calculate_discrepancy(A, b, x)\n",
    "        if is_print:\n",
    "            matrix_str = \"\"\n",
    "            for row, b_i in zip(self.A, self.b):\n",
    "                matrix_str += \"||\"\n",
    "                matrix_str += \" \".join([\"{0:8.5f}\".format(x_i) for x_i in row])\n",
    "                matrix_str += \"| {0:8.5f}||\\n\".format(b_i)\n",
    "            solution_str = \"\\n\".join([\"x[{0}] = {1:8.5f}\".format(i, x_i)\n",
    "                                 for i, x_i in enumerate(x)])\n",
    "            discrepancy_str = \"\\n\".join([\"eps[{0}] = {1:14.5e}\".format(i, eps_i)\n",
    "                                    for i, eps_i in enumerate(discrepancy)])\n",
    "            print(\"Augmented Matrix is: \\n\" + matrix_str)\n",
    "            print(\"Solution is:\\n\" + solution_str)\n",
    "            print(\"Discrepancy is:\\n\" + discrepancy_str)\n",
    "        return x\n",
    "        \n",
    "    def get_s(self):\n",
    "        s = np.copy(self.A[:,self.iteration])\n",
    "        s[:self.iteration] = 0\n",
    "        return s\n",
    "    \n",
    "    def get_e(self):\n",
    "        e = np.zeros(self.n)\n",
    "        e[self.iteration] = 1\n",
    "        return e\n",
    "        \n",
    "    def calculate_alpha(self, s):\n",
    "        return np.linalg.norm(s)\n",
    "    \n",
    "    def calculate_x(self, alpha, s, e):\n",
    "        return 1 / (np.sqrt(2*np.dot(s, s - alpha * e)))\n",
    "    \n",
    "    def calculate_omega(self, alpha, s, e):\n",
    "        x = self.calculate_x(alpha, s, e)\n",
    "        return x * (s - alpha*e)"
   ]
  },
  {
   "cell_type": "code",
   "execution_count": 64,
   "metadata": {},
   "outputs": [
    {
     "name": "stdout",
     "output_type": "stream",
     "text": [
      "Augmented Matrix is: \n",
      "|| 0.49978 -0.02293 -0.11581  0.13040  0.16837|  1.73981||\n",
      "|| 0.00000  0.33801 -0.18032 -0.05256 -0.01714| -1.76717||\n",
      "|| 0.00000  0.00000  0.58709 -0.07678  0.13673|  0.12282||\n",
      "|| 0.00000  0.00000  0.00000  0.57738 -0.00779|  1.77862||\n",
      "|| 0.00000  0.00000  0.00000  0.00000  0.39900| -2.39400||\n",
      "\n",
      "Solution is:\n",
      "x[0] =  4.99961\n",
      "x[1] = -3.99950\n",
      "x[2] =  1.99891\n",
      "x[3] =  2.99954\n",
      "x[4] = -6.00005\n",
      "Discrepancy is:\n",
      "eps[0] =   -2.22045e-16\n",
      "eps[1] =    0.00000e+00\n",
      "eps[2] =    0.00000e+00\n",
      "eps[3] =    2.22045e-16\n",
      "eps[4] =    0.00000e+00\n"
     ]
    }
   ],
   "source": [
    "x = HausholderMethod(A, b).solve(True)"
   ]
  },
  {
   "cell_type": "markdown",
   "metadata": {},
   "source": [
    "## Метод простых итераций"
   ]
  },
  {
   "cell_type": "code",
   "execution_count": 65,
   "metadata": {},
   "outputs": [],
   "source": [
    "class IterativeMethod:\n",
    "    def __init__(self):\n",
    "        pass\n",
    "        \n",
    "        \n",
    "    def canonize(self, A, b):\n",
    "        B = np.eye(*A.shape) - np.dot(A.T, A)/np.linalg.norm(np.dot(A.T, A))\n",
    "        g = np.dot(A.T, b) / np.linalg.norm(np.dot(A.T, A))\n",
    "        return B, g\n",
    "\n",
    "    \n",
    "    def is_converge(self, B):\n",
    "        if np.linalg.norm(B) < 1:\n",
    "            return \"Method converges (||B|| is equal to {})\".format(np.linalg.norm(B))\n",
    "        if np.max(np.abs(np.linalg.eigvals(B))) < 1:\n",
    "            return \"Method converges (max eigenvalue is: {})\".format(np.max(np.abs(np.linalg.eigvalsh(B))))\n",
    "        return \"Method doesn't converge\"\n",
    "    \n",
    "    \n",
    "    def estimate_iterations(self, B, g, eps):\n",
    "        norm_B = np.linalg.norm(B)\n",
    "        norm_g = np.linalg.norm(g)\n",
    "        if(norm_B > 1):\n",
    "            return \"Impossible to estimate (||B|| > 1)\"\n",
    "        return (np.log10(eps) + np.log10(1-norm_B) - np.log10(norm_g))/norm_g - 1\n",
    "        \n",
    "        \n",
    "    def solve(self, A, b, x0=np.zeros_like(b), eps=1e-5, max_it=1e8, is_print=False):\n",
    "        B, g = self.canonize(A, b)\n",
    "        difference = 1\n",
    "        it = 0\n",
    "        x_prev = np.copy(x0)\n",
    "        x_next = np.copy(x0)\n",
    "        while(difference >= eps and it < max_it):\n",
    "            x_next = np.dot(B, x_next) + g\n",
    "            difference = np.linalg.norm(x_next - x_prev)\n",
    "            x_prev = np.copy(x_next)\n",
    "            it += 1\n",
    "        discrepancy = calculate_discrepancy(A, b, x_prev)\n",
    "        print(\"Estimated iterations: {0}\\n\".format(self.estimate_iterations(B, g, eps)))\n",
    "        is_method_converge = self.is_converge(B)\n",
    "        if is_print:\n",
    "            full_print(difference, it, x_prev, discrepancy, is_method_converge)\n",
    "        return x_prev"
   ]
  },
  {
   "cell_type": "code",
   "execution_count": 66,
   "metadata": {},
   "outputs": [
    {
     "name": "stdout",
     "output_type": "stream",
     "text": [
      "Estimated iterations: Impossible to estimate (||B|| > 1)\n",
      "\n",
      "Method converges (max eigenvalue is: 0.8643513458921206)\n",
      "Error is: 8.66598e-06\n",
      "Number of iterations: 70\n",
      "Solution is:\n",
      "x[0] =  4.99959\n",
      "x[1] = -3.99954\n",
      "x[2] =  1.99889\n",
      "x[3] =  2.99954\n",
      "x[4] = -6.00003\n",
      "Discrepancy is:\n",
      "eps[0] =   -5.23166e-06\n",
      "eps[1] =   -1.17547e-05\n",
      "eps[2] =   -6.07765e-06\n",
      "eps[3] =   -3.25308e-07\n",
      "eps[4] =    8.44158e-06\n"
     ]
    }
   ],
   "source": [
    "x = IterativeMethod().solve(A, b, max_it=1e15, is_print=True)"
   ]
  },
  {
   "cell_type": "markdown",
   "metadata": {},
   "source": [
    "## Метод Гаусса-Зейделя"
   ]
  },
  {
   "cell_type": "code",
   "execution_count": 67,
   "metadata": {},
   "outputs": [],
   "source": [
    "class GaussSeidelMethod:\n",
    "    def __init__(self):\n",
    "        pass\n",
    "    \n",
    "    \n",
    "    def make_symmetric(self, A, b):\n",
    "        return np.dot(A.T, A), np.dot(A.T, b)\n",
    "    \n",
    "    \n",
    "    def is_converge(self, A):\n",
    "        return is_symmetric(A) and is_positive_defined(A)\n",
    "    \n",
    "    \n",
    "    def solve(self, A, b, x0=np.zeros_like(b), eps=1e-5, max_it=1e5, is_print=False):\n",
    "        B, g = self.make_symmetric(A, b)\n",
    "        difference = 1\n",
    "        it = 0\n",
    "        x_k = np.copy(x0)\n",
    "        x_k_1 = np.copy(x0)\n",
    "        while(difference > eps and it < max_it):\n",
    "            x_k = np.copy(x_k_1)\n",
    "            for i, _ in enumerate(x0):\n",
    "                accumulator = 0\n",
    "                accumulator += -np.dot(B[i, :i], x_k_1[:i]) - np.dot(B[i, i+1:], x_k[i+1:]) + g[i]\n",
    "                x_k_1[i] = accumulator/B[i][i]\n",
    "                it += 1\n",
    "            difference = np.linalg.norm(x_k-x_k_1)\n",
    "        discrepancy = calculate_discrepancy(A, b, x_k)\n",
    "        is_method_converge = \"Matrix converges\" if self.is_converge(B) else \"Matrix doesn't converge\"\n",
    "        if is_print:\n",
    "            full_print(difference, it, x_k, discrepancy, is_method_converge)\n",
    "        return x_k"
   ]
  },
  {
   "cell_type": "code",
   "execution_count": 68,
   "metadata": {},
   "outputs": [
    {
     "name": "stdout",
     "output_type": "stream",
     "text": [
      "Matrix converges\n",
      "Error is: 4.83646e-06\n",
      "Number of iterations: 71\n",
      "Solution is:\n",
      "x[0] =  4.99961\n",
      "x[1] = -3.99951\n",
      "x[2] =  1.99890\n",
      "x[3] =  2.99954\n",
      "x[4] = -6.00005\n",
      "Discrepancy is:\n",
      "eps[0] =   -1.78619e-06\n",
      "eps[1] =   -9.67277e-07\n",
      "eps[2] =   -1.12089e-06\n",
      "eps[3] =    1.41424e-07\n",
      "eps[4] =    7.77538e-07\n"
     ]
    }
   ],
   "source": [
    "x = GaussSeidelMethod().solve(A, b, is_print=True)"
   ]
  },
  {
   "cell_type": "markdown",
   "metadata": {},
   "source": [
    "## Метод градиентного спуска"
   ]
  },
  {
   "cell_type": "code",
   "execution_count": 69,
   "metadata": {},
   "outputs": [],
   "source": [
    "class GradientDescent:\n",
    "    def solve(self, A, b, x0, eps=1e-5, max_it=1e8, is_print=False):\n",
    "        \"\"\"Solves system of linear equations using gradient descent method\n",
    "        r for discrepancy\n",
    "        A - matrix A (coefficients)\n",
    "        b - free term\n",
    "        x0 - initial guess\n",
    "        eps - disired accuracy\"\"\"\n",
    "        x_next = np.copy(x0)\n",
    "        x_prev = np.copy(x0)\n",
    "        r = calculate_discrepancy(A, b, x0)\n",
    "        difference = 1\n",
    "        it = 0\n",
    "        while(difference > eps):\n",
    "            t = np.dot(r, r)/np.dot(np.dot(A, r), r)\n",
    "            x_next = x_prev - t*r\n",
    "            difference = np.linalg.norm(x_next - x_prev)\n",
    "            x_prev = np.copy(x_next)\n",
    "            r = calculate_discrepancy(A, b, x_prev)\n",
    "            it += 1\n",
    "        if is_print:\n",
    "            full_print(difference, it, x_prev, r)\n",
    "        return x_prev"
   ]
  },
  {
   "cell_type": "code",
   "execution_count": 70,
   "metadata": {},
   "outputs": [
    {
     "name": "stdout",
     "output_type": "stream",
     "text": [
      "No information\n",
      "Error is: 9.01592e-06\n",
      "Number of iterations: 13\n",
      "Solution is:\n",
      "x[0] =  4.99961\n",
      "x[1] = -3.99951\n",
      "x[2] =  1.99891\n",
      "x[3] =  2.99954\n",
      "x[4] = -6.00005\n",
      "Discrepancy is:\n",
      "eps[0] =   -7.06034e-07\n",
      "eps[1] =   -6.73827e-07\n",
      "eps[2] =    4.92627e-08\n",
      "eps[3] =   -7.79832e-07\n",
      "eps[4] =    5.27329e-07\n"
     ]
    }
   ],
   "source": [
    "x = GradientDescent().solve(A, b, np.zeros_like(b), is_print=True)"
   ]
  },
  {
   "cell_type": "code",
   "execution_count": null,
   "metadata": {},
   "outputs": [],
   "source": []
  }
 ],
 "metadata": {
  "kernelspec": {
   "display_name": "Python 3",
   "language": "python",
   "name": "python3"
  },
  "language_info": {
   "codemirror_mode": {
    "name": "ipython",
    "version": 3
   },
   "file_extension": ".py",
   "mimetype": "text/x-python",
   "name": "python",
   "nbconvert_exporter": "python",
   "pygments_lexer": "ipython3",
   "version": "3.7.1"
  }
 },
 "nbformat": 4,
 "nbformat_minor": 2
}
