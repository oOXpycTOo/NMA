{
 "cells": [
  {
   "cell_type": "code",
   "execution_count": 1,
   "metadata": {},
   "outputs": [],
   "source": [
    "import numpy as np\n",
    "from threading import Thread"
   ]
  },
  {
   "cell_type": "code",
   "execution_count": 2,
   "metadata": {},
   "outputs": [],
   "source": [
    "A = np.genfromtxt(\"A.txt\", delimiter=\",\")\n",
    "b = np.genfromtxt(\"b.txt\", delimiter=\",\")"
   ]
  },
  {
   "cell_type": "markdown",
   "metadata": {},
   "source": [
    "## SLAE utils"
   ]
  },
  {
   "cell_type": "code",
   "execution_count": 3,
   "metadata": {},
   "outputs": [],
   "source": [
    "def back_substitution(A, b, start_from=\"bottom\"):\n",
    "    if(start_from == \"top\"):\n",
    "        return substitute_from_top(A, b)\n",
    "    elif(start_from == \"bottom\"):\n",
    "        return substitute_from_bottom(A, b)"
   ]
  },
  {
   "cell_type": "code",
   "execution_count": 4,
   "metadata": {},
   "outputs": [],
   "source": [
    "def substitute_from_top(A, b):\n",
    "    x = np.zeros_like(b)\n",
    "    for i in range(0, A.shape[0]):\n",
    "        x[i] = (b[i] - np.dot(A[i, 0:i], x[0:i])) / A[i][i]\n",
    "    return x"
   ]
  },
  {
   "cell_type": "code",
   "execution_count": 5,
   "metadata": {},
   "outputs": [],
   "source": [
    "def substitute_from_bottom(A, b):\n",
    "    x = np.zeros_like(b)\n",
    "    n = A.shape[0] - 1\n",
    "    zero = -1\n",
    "    for i in range(n, zero, -1):\n",
    "        x[i] = (b[i] - np.dot(A[i, i+1:], x[i+1:])) / A[i,i]\n",
    "    return x"
   ]
  },
  {
   "cell_type": "code",
   "execution_count": 6,
   "metadata": {},
   "outputs": [],
   "source": [
    "def calculate_discrepancy(A, b, x):\n",
    "    return np.dot(A, x) - b"
   ]
  },
  {
   "cell_type": "code",
   "execution_count": 7,
   "metadata": {},
   "outputs": [],
   "source": [
    "def is_positive_defined(A):\n",
    "    return np.all(np.linalg.eigvals(A) > 0)"
   ]
  },
  {
   "cell_type": "code",
   "execution_count": 8,
   "metadata": {},
   "outputs": [],
   "source": [
    "def is_symmetric(A):\n",
    "    return np.all(A==A.T)"
   ]
  },
  {
   "cell_type": "code",
   "execution_count": 9,
   "metadata": {},
   "outputs": [
    {
     "data": {
      "text/plain": [
       "array([[ 0.4974,  0.    , -0.1299,  0.0914,  0.1523],\n",
       "       [-0.0305,  0.3248,  0.    , -0.0619,  0.0203],\n",
       "       [ 0.0102, -0.0914,  0.5887,  0.0112,  0.0355],\n",
       "       [ 0.0305,  0.    , -0.0741,  0.5887,  0.    ],\n",
       "       [ 0.0203, -0.0305,  0.1472, -0.0122,  0.4263]])"
      ]
     },
     "execution_count": 9,
     "metadata": {},
     "output_type": "execute_result"
    }
   ],
   "source": [
    "A"
   ]
  },
  {
   "cell_type": "code",
   "execution_count": 10,
   "metadata": {},
   "outputs": [
    {
     "data": {
      "text/plain": [
       "array([ 1.5875, -1.759 ,  1.4139,  1.7702, -2.0767])"
      ]
     },
     "execution_count": 10,
     "metadata": {},
     "output_type": "execute_result"
    }
   ],
   "source": [
    "b"
   ]
  },
  {
   "cell_type": "markdown",
   "metadata": {},
   "source": [
    "## Метод квадратного корня"
   ]
  },
  {
   "cell_type": "code",
   "execution_count": 11,
   "metadata": {},
   "outputs": [],
   "source": [
    "def cholessky_decomposition(A):\n",
    "    S = np.zeros_like(A)\n",
    "    S[0,0] = np.sqrt(A[0,0])\n",
    "    S[0,1:] = A[0,1:]/S[0,0]\n",
    "    for i in range(1, S.shape[0]):\n",
    "        S[i, i] = np.sqrt(np.abs(A[i, i] - np.sum(S[0:i, i]**2)))\n",
    "        for j in range(i+1, S.shape[1]):\n",
    "            S[i][j] = (A[i][j] - np.dot(S[0:i, i], S[0:i, j])) / S[i][i]\n",
    "    return S"
   ]
  },
  {
   "cell_type": "code",
   "execution_count": 12,
   "metadata": {},
   "outputs": [],
   "source": [
    "def solve(A, b):\n",
    "    U = cholessky_decomposition(A)\n",
    "    y = back_substitution(U.T, b, \"top\")\n",
    "    x = back_substitution(U, y, \"bottom\")\n",
    "    return x"
   ]
  },
  {
   "cell_type": "code",
   "execution_count": 13,
   "metadata": {},
   "outputs": [
    {
     "name": "stdout",
     "output_type": "stream",
     "text": [
      "183 µs ± 9.36 µs per loop (mean ± std. dev. of 7 runs, 1000 loops each)\n"
     ]
    }
   ],
   "source": [
    "%timeit solve(np.dot(A.T, A), b)"
   ]
  },
  {
   "cell_type": "markdown",
   "metadata": {},
   "source": [
    "## Метод встречной прогонки"
   ]
  },
  {
   "cell_type": "markdown",
   "metadata": {},
   "source": [
    "## Метод отражений"
   ]
  },
  {
   "cell_type": "code",
   "execution_count": 14,
   "metadata": {},
   "outputs": [],
   "source": [
    "class HausholderMethod:\n",
    "    def __init__(self, A, b):\n",
    "        self.A = np.copy(A)\n",
    "        self.b = np.copy(b)\n",
    "        self.n = self.b.shape[0]\n",
    "        self.iteration = 0\n",
    "        \n",
    "    def decompose(self):\n",
    "        for k in range(0, self.n-1):\n",
    "            self.iteration = k\n",
    "            s = self.get_s()\n",
    "            e = self.get_e()\n",
    "            alpha = self.calculate_alpha(s)\n",
    "            omega = self.calculate_omega(alpha, s, e)\n",
    "            A_ = np.copy(self.A[k:,k+1:])\n",
    "            b_ = np.copy(self.b[k:])\n",
    "            self.A[k][k] = alpha\n",
    "            for i in range(k, self.n):\n",
    "                self.b[i] = b_[i-k] - 2*omega[i]*np.dot(b_, omega[k:])\n",
    "                for j in range(k+1, self.n):\n",
    "                    self.A[i][j] = self.A[i][j] - 2*omega[i]*np.dot(A_[:,j-(k+1)], omega[k:])\n",
    "            self.A[k+1:,k] = 0\n",
    "    \n",
    "    def solve(self):\n",
    "        self.decompose()\n",
    "        return back_substitution(self.A, self.b)\n",
    "            \n",
    "    def get_s(self):\n",
    "        s = np.copy(self.A[:,self.iteration])\n",
    "        s[:self.iteration] = 0\n",
    "        return s\n",
    "    \n",
    "    def get_e(self):\n",
    "        e = np.zeros(self.n)\n",
    "        e[self.iteration] = 1\n",
    "        return e\n",
    "        \n",
    "    def calculate_alpha(self, s):\n",
    "        return np.linalg.norm(s)\n",
    "    \n",
    "    def calculate_x(self, alpha, s, e):\n",
    "        return 1 / (np.sqrt(2*np.dot(s, s - alpha * e)))\n",
    "    \n",
    "    def calculate_omega(self, alpha, s, e):\n",
    "        x = self.calculate_x(alpha, s, e)\n",
    "        return x * (s - alpha*e)"
   ]
  },
  {
   "cell_type": "code",
   "execution_count": 15,
   "metadata": {},
   "outputs": [
    {
     "data": {
      "text/plain": [
       "array([ 4.9996129 , -3.99950458,  1.99890632,  2.99954266, -6.00005072])"
      ]
     },
     "execution_count": 15,
     "metadata": {},
     "output_type": "execute_result"
    }
   ],
   "source": [
    "x = HausholderMethod(A, b).solve()\n",
    "x"
   ]
  },
  {
   "cell_type": "markdown",
   "metadata": {},
   "source": [
    "## Метод простых итераций"
   ]
  },
  {
   "cell_type": "code",
   "execution_count": 16,
   "metadata": {},
   "outputs": [],
   "source": [
    "class IterativeMethod:\n",
    "    def __init__(self):\n",
    "        pass\n",
    "        \n",
    "        \n",
    "    def canonize(self, A, b):\n",
    "        B = np.eye(*A.shape) - np.dot(A.T, A)/np.linalg.norm(np.dot(A.T, A))\n",
    "        g = np.dot(A.T, b) / np.linalg.norm(np.dot(A.T, A))\n",
    "        return B, g\n",
    "\n",
    "    \n",
    "    def is_converge(self, B):\n",
    "        if np.linalg.norm(B) < 1:\n",
    "            return \"Method converges (||B|| is equal to {})\".format(np.linalg.norm(B))\n",
    "        if np.max(np.abs(np.linalg.eigvals(B))) < 1:\n",
    "            return \"Method converges (max eigenvalue is: {})\".format(np.max(np.abs(np.linalg.eigvalsh(B))))\n",
    "        return \"Method doesn't converge\"\n",
    "    \n",
    "    \n",
    "    def estimate_iterations(self, B, g, eps):\n",
    "        norm_B = np.linalg.norm(B)\n",
    "        norm_g = np.linalg.norm(g)\n",
    "        if(norm_B > 1):\n",
    "            return \"Impossible to estimate\"\n",
    "        return (np.log10(eps) + np.log10(1-norm_B) - np.log10(norm_g))/norm_g - 1\n",
    "        \n",
    "        \n",
    "    def solve(self, A, b, x0=np.zeros_like(b), eps=1e-5, max_it=1e8, full_print=False):\n",
    "        B, g = self.canonize(A, b)\n",
    "        difference = 1\n",
    "        it = 0\n",
    "        x_prev = np.copy(x0)\n",
    "        x_next = np.copy(x0)\n",
    "        while(difference >= eps and it < max_it):\n",
    "            x_next = np.dot(B, x_next) + g\n",
    "            difference = np.linalg.norm(x_next - x_prev)\n",
    "            x_prev = np.copy(x_next)\n",
    "            it += 1\n",
    "        discrepancy = calculate_discrepancy(A, b, x_prev)\n",
    "        estimated_iterations = self.estimate_iterations(B, g, eps)\n",
    "        is_method_converge = self.is_converge(B)\n",
    "        if full_print:\n",
    "            self.full_print(difference, it, x_prev, discrepancy, estimated_iterations, is_method_converge)\n",
    "        return x_prev\n",
    "    \n",
    "    def full_print(self, difference, it, x_k, discrepancy, estimated_iterations, is_method_converge):\n",
    "        print(is_method_converge)\n",
    "        print(\"Estimated iterations: {0}\\n\".format(estimated_iterations))\n",
    "        print(\"Error is: {0:.5E}\\nNumber of iterations: {1}\\n\".format(difference, it))\n",
    "        solution_str = \", \".join([\"x[{0}] = {1:.5f}\".format(i, x_i)\n",
    "                                 for i, x_i in enumerate(x_k)])\n",
    "        discrepancy_str = \", \".join([\"eps[{0}] = {1:.5E}\".format(i, eps_i)\n",
    "                                    for i, eps_i in enumerate(discrepancy)])\n",
    "        print(\"\\nSolution is:\\n\" + solution_str)\n",
    "        print(\"\\nDiscrepancy is:\\n\" + discrepancy_str)"
   ]
  },
  {
   "cell_type": "code",
   "execution_count": 17,
   "metadata": {},
   "outputs": [
    {
     "name": "stdout",
     "output_type": "stream",
     "text": [
      "Method converges (max eigenvalue is: 0.8643513458921206)\n",
      "Estimated iterations: Impossible to estimate\n",
      "\n",
      "Error is: 8.66598E-06\n",
      "Number of iterations: 69\n",
      "\n",
      "\n",
      "Solution is:\n",
      "x[0] = 4.99959, x[1] = -3.99954, x[2] = 1.99889, x[3] = 2.99954, x[4] = -6.00003\n",
      "\n",
      "Discrepancy is:\n",
      "eps[0] = -5.23166E-06, eps[1] = -1.17547E-05, eps[2] = -6.07765E-06, eps[3] = -3.25308E-07, eps[4] = 8.44158E-06\n"
     ]
    }
   ],
   "source": [
    "x = IterativeMethod().solve(A, b, max_it=1e15, full_print=True)"
   ]
  },
  {
   "cell_type": "markdown",
   "metadata": {},
   "source": [
    "## Метод Гаусса-Зейделя"
   ]
  },
  {
   "cell_type": "code",
   "execution_count": 18,
   "metadata": {},
   "outputs": [],
   "source": [
    "class GaussSeidelMethod:\n",
    "    def __init__(self):\n",
    "        pass\n",
    "    \n",
    "    \n",
    "    def make_symmetric(self, A, b):\n",
    "        return np.dot(A.T, A), np.dot(A.T, b)\n",
    "    \n",
    "    \n",
    "    def is_converge(self, A):\n",
    "        return is_symmetric(A) and is_positive_defined(A)\n",
    "    \n",
    "    \n",
    "    def solve(self, A, b, x0=np.zeros_like(b), eps=1e-5, max_it=1e5, full_print=False):\n",
    "        B, g = self.make_symmetric(A, b)\n",
    "        difference = 1\n",
    "        it = 0\n",
    "        x_k = np.copy(x0)\n",
    "        x_k_1 = np.copy(x0)\n",
    "        while(difference > eps and it < max_it):\n",
    "            x_k = np.copy(x_k_1)\n",
    "            for i, _ in enumerate(x0):\n",
    "                accumulator = 0\n",
    "                accumulator += -np.dot(B[i, :i], x_k_1[:i]) - np.dot(B[i, i+1:], x_k[i+1:]) + g[i]\n",
    "                x_k_1[i] = accumulator/B[i][i]\n",
    "                it += 1\n",
    "            difference = np.linalg.norm(x_k-x_k_1)\n",
    "        discrepancy = calculate_discrepancy(A, b, x_k)\n",
    "        is_system_converge = \"Matrix converges\" if self.is_converge(B) else \"Matrix doesn't converge\"\n",
    "        if full_print:\n",
    "            self.full_print(difference, it, x_k, discrepancy, is_system_converge)\n",
    "        return x_k\n",
    "    \n",
    "    \n",
    "    def full_print(self, difference, it, x_k, discrepancy, is_system_converge):\n",
    "        print(is_system_converge)\n",
    "        print(\"Error is: {0:.5E}\\nNumber of iterations: {1}\".format(difference, it))\n",
    "        solution_str = \", \".join([\"x[{0}] = {1:.5f}\".format(i, x_i)\n",
    "                                 for i, x_i in enumerate(x_k)])\n",
    "        discrepancy_str = \", \".join([\"eps[{0}] = {1:.5E}\".format(i, eps_i)\n",
    "                                    for i, eps_i in enumerate(discrepancy)])\n",
    "        print(\"Solution is:\\n\" + solution_str)\n",
    "        print(\"Discrepancy is:\\n\" + discrepancy_str)"
   ]
  },
  {
   "cell_type": "code",
   "execution_count": 19,
   "metadata": {},
   "outputs": [
    {
     "name": "stdout",
     "output_type": "stream",
     "text": [
      "Matrix converges\n",
      "Error is: 4.83646E-06\n",
      "Number of iterations: 70\n",
      "Solution is:\n",
      "x[0] = 4.99961, x[1] = -3.99951, x[2] = 1.99890, x[3] = 2.99954, x[4] = -6.00005\n",
      "Discrepancy is:\n",
      "eps[0] = -1.78619E-06, eps[1] = -9.67277E-07, eps[2] = -1.12089E-06, eps[3] = 1.41424E-07, eps[4] = 7.77538E-07\n"
     ]
    }
   ],
   "source": [
    "x = GaussSeidelMethod().solve(A, b, full_print=True)"
   ]
  },
  {
   "cell_type": "code",
   "execution_count": null,
   "metadata": {},
   "outputs": [],
   "source": []
  }
 ],
 "metadata": {
  "kernelspec": {
   "display_name": "Python 3",
   "language": "python",
   "name": "python3"
  },
  "language_info": {
   "codemirror_mode": {
    "name": "ipython",
    "version": 3
   },
   "file_extension": ".py",
   "mimetype": "text/x-python",
   "name": "python",
   "nbconvert_exporter": "python",
   "pygments_lexer": "ipython3",
   "version": "3.7.1"
  }
 },
 "nbformat": 4,
 "nbformat_minor": 2
}
