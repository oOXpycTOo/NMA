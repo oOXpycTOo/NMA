{
 "cells": [
  {
   "cell_type": "code",
   "execution_count": 1,
   "metadata": {},
   "outputs": [],
   "source": [
    "import numpy as np\n",
    "from threading import Thread"
   ]
  },
  {
   "cell_type": "code",
   "execution_count": 17,
   "metadata": {},
   "outputs": [],
   "source": [
    "A = np.genfromtxt(\"A.txt\", delimiter=\",\")\n",
    "b = np.genfromtxt(\"b.txt\", delimiter=\",\")"
   ]
  },
  {
   "cell_type": "code",
   "execution_count": 18,
   "metadata": {},
   "outputs": [
    {
     "data": {
      "text/plain": [
       "array([[ 0.4974,  0.    , -0.1299,  0.0914,  0.1523],\n",
       "       [-0.0305,  0.3248,  0.    , -0.0619,  0.0203],\n",
       "       [ 0.0102, -0.0914,  0.5887,  0.0112,  0.0355],\n",
       "       [ 0.0305,  0.    , -0.0741,  0.5887,  0.    ],\n",
       "       [ 0.0203, -0.0305,  0.1472, -0.0122,  0.4263]])"
      ]
     },
     "execution_count": 18,
     "metadata": {},
     "output_type": "execute_result"
    }
   ],
   "source": [
    "A"
   ]
  },
  {
   "cell_type": "code",
   "execution_count": 19,
   "metadata": {},
   "outputs": [
    {
     "data": {
      "text/plain": [
       "array([ 1.5875, -1.759 ,  1.4139,  1.7702, -2.0767])"
      ]
     },
     "execution_count": 19,
     "metadata": {},
     "output_type": "execute_result"
    }
   ],
   "source": [
    "b"
   ]
  },
  {
   "cell_type": "markdown",
   "metadata": {},
   "source": [
    "## Метод квадратного корня"
   ]
  },
  {
   "cell_type": "code",
   "execution_count": 2,
   "metadata": {},
   "outputs": [],
   "source": [
    "def cholessky_decomposition(A):\n",
    "    S = np.zeros_like(A)\n",
    "    S[0,0] = np.sqrt(A[0,0])\n",
    "    S[0,1:] = A[0,1:]/S[0,0]\n",
    "    for i in range(1, S.shape[0]):\n",
    "        S[i, i] = np.sqrt(np.abs(A[i, i] - np.sum(S[0:i, i]**2)))\n",
    "        for j in range(i+1, S.shape[1]):\n",
    "            S[i][j] = (A[i][j] - np.dot(S[0:i, i], S[0:i, j])) / S[i][i]\n",
    "    return S"
   ]
  },
  {
   "cell_type": "code",
   "execution_count": 3,
   "metadata": {},
   "outputs": [],
   "source": [
    "def back_substitution(A, b, start_from=\"bottom\"):\n",
    "    if(start_from == \"top\"):\n",
    "        return substitute_from_top(A, b)\n",
    "    elif(start_from == \"bottom\"):\n",
    "        return substitute_from_bottom(A, b)"
   ]
  },
  {
   "cell_type": "code",
   "execution_count": 4,
   "metadata": {},
   "outputs": [],
   "source": [
    "def substitute_from_top(A, b):\n",
    "    x = np.zeros_like(b)\n",
    "    for i in range(0, A.shape[0]):\n",
    "        x[i] = (b[i] - np.dot(A[i, 0:i], x[0:i])) / A[i][i]\n",
    "    return x"
   ]
  },
  {
   "cell_type": "code",
   "execution_count": 5,
   "metadata": {},
   "outputs": [],
   "source": [
    "def substitute_from_bottom(A, b):\n",
    "    x = np.zeros_like(b)\n",
    "    n = A.shape[0] - 1\n",
    "    zero = -1\n",
    "    for i in range(n, zero, -1):\n",
    "        x[i] = (b[i] - np.dot(A[i, i+1:], x[i+1:])) / A[i,i]\n",
    "    return x"
   ]
  },
  {
   "cell_type": "code",
   "execution_count": 6,
   "metadata": {},
   "outputs": [],
   "source": [
    "def solve(A, b):\n",
    "    U = cholessky_decomposition(A)\n",
    "    y = back_substitution(U.T, b, \"top\")\n",
    "    x = back_substitution(U, y, \"bottom\")\n",
    "    return x"
   ]
  },
  {
   "cell_type": "code",
   "execution_count": 20,
   "metadata": {},
   "outputs": [
    {
     "name": "stdout",
     "output_type": "stream",
     "text": [
      "179 µs ± 1.47 µs per loop (mean ± std. dev. of 7 runs, 10000 loops each)\n"
     ]
    }
   ],
   "source": [
    "%timeit solve(np.dot(A.T, A), b)"
   ]
  },
  {
   "cell_type": "markdown",
   "metadata": {},
   "source": [
    "## Метод встречной прогонки"
   ]
  },
  {
   "cell_type": "code",
   "execution_count": 21,
   "metadata": {},
   "outputs": [
    {
     "data": {
      "text/plain": [
       "array([0.])"
      ]
     },
     "execution_count": 21,
     "metadata": {},
     "output_type": "execute_result"
    }
   ],
   "source": [
    "np.zeros(np.int(np.array([1, 1, 1]).shape[0]/2))"
   ]
  },
  {
   "cell_type": "code",
   "execution_count": 22,
   "metadata": {},
   "outputs": [
    {
     "ename": "NameError",
     "evalue": "name 'TriagonalMethod' is not defined",
     "output_type": "error",
     "traceback": [
      "\u001b[1;31m---------------------------------------------------------------------------\u001b[0m",
      "\u001b[1;31mNameError\u001b[0m                                 Traceback (most recent call last)",
      "\u001b[1;32m<ipython-input-22-244b10fff5fe>\u001b[0m in \u001b[0;36m<module>\u001b[1;34m\u001b[0m\n\u001b[1;32m----> 1\u001b[1;33m \u001b[0ma\u001b[0m \u001b[1;33m=\u001b[0m \u001b[0mTriagonalMethod\u001b[0m\u001b[1;33m(\u001b[0m\u001b[0mA\u001b[0m\u001b[1;33m,\u001b[0m \u001b[0mnp\u001b[0m\u001b[1;33m.\u001b[0m\u001b[0marange\u001b[0m\u001b[1;33m(\u001b[0m\u001b[1;36m0\u001b[0m\u001b[1;33m,\u001b[0m\u001b[1;36m1000\u001b[0m\u001b[1;33m)\u001b[0m\u001b[1;33m)\u001b[0m\u001b[1;33m\u001b[0m\u001b[1;33m\u001b[0m\u001b[0m\n\u001b[0m",
      "\u001b[1;31mNameError\u001b[0m: name 'TriagonalMethod' is not defined"
     ]
    }
   ],
   "source": [
    "a = TriagonalMethod(A, np.arange(0,1000))"
   ]
  },
  {
   "cell_type": "code",
   "execution_count": null,
   "metadata": {},
   "outputs": [],
   "source": [
    "%timeit a.solve()"
   ]
  },
  {
   "cell_type": "code",
   "execution_count": null,
   "metadata": {},
   "outputs": [],
   "source": [
    "%timeit np.linalg.solve(A, np.arange(0,1000))"
   ]
  },
  {
   "cell_type": "markdown",
   "metadata": {},
   "source": [
    "## Метод отражений"
   ]
  },
  {
   "cell_type": "code",
   "execution_count": 34,
   "metadata": {},
   "outputs": [],
   "source": [
    "class HausholderMethod:\n",
    "    def __init__(self, A, b):\n",
    "        self.A = np.copy(A)\n",
    "        self.b = np.copy(b)\n",
    "        self.n = self.b.shape[0]\n",
    "        self.iteration = 0\n",
    "        \n",
    "    def decompose(self):\n",
    "        for k in range(0, self.n-1):\n",
    "            self.iteration = k\n",
    "            s = self.get_s()\n",
    "            e = self.get_e()\n",
    "            alpha = self.calculate_alpha(s)\n",
    "            omega = self.calculate_omega(alpha, s, e)\n",
    "            A_ = np.copy(self.A[k:,k+1:])\n",
    "            b_ = np.copy(self.b[k:])\n",
    "            self.A[k][k] = alpha\n",
    "            for i in range(k, self.n):\n",
    "                self.b[i] = b_[i-k] - 2*omega[i]*np.dot(b_, omega[k:])\n",
    "                for j in range(k+1, self.n):\n",
    "                    self.A[i][j] = self.A[i][j] - 2*omega[i]*np.dot(A_[:,j-(k+1)], omega[k:])\n",
    "            self.A[k+1:,k] = 0\n",
    "    \n",
    "    def solve(self):\n",
    "        self.decompose()\n",
    "        return back_substitution(self.A, self.b)\n",
    "            \n",
    "    def get_s(self):\n",
    "        s = np.copy(self.A[:,self.iteration])\n",
    "        s[:self.iteration] = 0\n",
    "        return s\n",
    "    \n",
    "    def get_e(self):\n",
    "        e = np.zeros(self.n)\n",
    "        e[self.iteration] = 1\n",
    "        return e\n",
    "        \n",
    "    def calculate_alpha(self, s):\n",
    "        return np.linalg.norm(s)\n",
    "    \n",
    "    def calculate_x(self, alpha, s, e):\n",
    "        return 1 / (np.sqrt(2*np.dot(s, s - alpha * e)))\n",
    "    \n",
    "    def calculate_omega(self, alpha, s, e):\n",
    "        x = self.calculate_x(alpha, s, e)\n",
    "        return x * (s - alpha*e)"
   ]
  },
  {
   "cell_type": "code",
   "execution_count": 37,
   "metadata": {},
   "outputs": [
    {
     "name": "stdout",
     "output_type": "stream",
     "text": [
      "A = \n",
      "[[ 0.4974  0.     -0.1299  0.0914  0.1523]\n",
      " [-0.0305  0.3248  0.     -0.0619  0.0203]\n",
      " [ 0.0102 -0.0914  0.5887  0.0112  0.0355]\n",
      " [ 0.0305  0.     -0.0741  0.5887  0.    ]\n",
      " [ 0.0203 -0.0305  0.1472 -0.0122  0.4263]]\n",
      "\n",
      "b = \n",
      "[ 1.5875 -1.759   1.4139  1.7702 -2.0767]\n",
      "\n"
     ]
    },
    {
     "data": {
      "text/plain": [
       "array([-2.22044605e-16,  0.00000000e+00,  0.00000000e+00,  2.22044605e-16,\n",
       "        0.00000000e+00])"
      ]
     },
     "execution_count": 37,
     "metadata": {},
     "output_type": "execute_result"
    }
   ],
   "source": [
    "print(\"A = \\n{}\\n\".format(A))\n",
    "print(\"b = \\n{}\\n\".format(b))\n",
    "x = HausholderMethod(A, b).solve()\n",
    "np.dot(A, x) - b"
   ]
  },
  {
   "cell_type": "markdown",
   "metadata": {},
   "source": [
    "## Метод простых итераций"
   ]
  },
  {
   "cell_type": "code",
   "execution_count": 49,
   "metadata": {},
   "outputs": [],
   "source": [
    "class IterativeMethod:\n",
    "    def __init__(self, A, b, x0, eps=1e-8):\n",
    "        self.B = 0\n",
    "        self.g = 0\n",
    "        self.x = x0\n",
    "        self.canonize(A, b)\n",
    "        self.eps = eps\n",
    "        \n",
    "    def canonize(self, A, b):\n",
    "        self.B = np.eye(*A.shape) - np.dot(A.T, A)/np.linalg.norm(np.dot(A.T, A))\n",
    "        self.g = np.dot(A.T, b) / np.linalg.norm(np.dot(A.T, A))\n",
    "        \n",
    "\n",
    "    def solve(self):\n",
    "        difference = 1\n",
    "        it = 0\n",
    "        x_prev = float('inf')\n",
    "        while(difference >= self.eps and it < 1000):\n",
    "            x_prev = np.copy(self.x)\n",
    "            self.x = np.dot(self.B, self.x) + self.g\n",
    "            difference = np.linalg.norm(self.x - x_prev)\n",
    "            print(\"=\"*50)\n",
    "            print(\"Accuracy is {0}\\nIteration is {1}\".format(difference, it))\n",
    "            it += 1\n",
    "        return x_prev"
   ]
  },
  {
   "cell_type": "code",
   "execution_count": 50,
   "metadata": {},
   "outputs": [
    {
     "name": "stdout",
     "output_type": "stream",
     "text": [
      "==================================================\n",
      "Accuracy is 2.5326582024911923\n",
      "Iteration is 0\n",
      "==================================================\n",
      "Accuracy is 1.550768824053721\n",
      "Iteration is 1\n",
      "==================================================\n",
      "Accuracy is 1.1305204710476853\n",
      "Iteration is 2\n",
      "==================================================\n",
      "Accuracy is 0.8847930054577675\n",
      "Iteration is 3\n",
      "==================================================\n",
      "Accuracy is 0.7107559016620469\n",
      "Iteration is 4\n",
      "==================================================\n",
      "Accuracy is 0.5767852603655427\n",
      "Iteration is 5\n",
      "==================================================\n",
      "Accuracy is 0.4701064351141288\n",
      "Iteration is 6\n",
      "==================================================\n",
      "Accuracy is 0.3839336674946003\n",
      "Iteration is 7\n",
      "==================================================\n",
      "Accuracy is 0.31387435873664676\n",
      "Iteration is 8\n",
      "==================================================\n",
      "Accuracy is 0.2567398361591423\n",
      "Iteration is 9\n",
      "==================================================\n",
      "Accuracy is 0.2100739813185109\n",
      "Iteration is 10\n",
      "==================================================\n",
      "Accuracy is 0.17192809744192367\n",
      "Iteration is 11\n",
      "==================================================\n",
      "Accuracy is 0.14073302135235732\n",
      "Iteration is 12\n",
      "==================================================\n",
      "Accuracy is 0.11521568909973667\n",
      "Iteration is 13\n",
      "==================================================\n",
      "Accuracy is 0.09433927253282769\n",
      "Iteration is 14\n",
      "==================================================\n",
      "Accuracy is 0.07725764789014375\n",
      "Iteration is 15\n",
      "==================================================\n",
      "Accuracy is 0.06327959206532019\n",
      "Iteration is 16\n",
      "==================================================\n",
      "Accuracy is 0.05184010881052445\n",
      "Iteration is 17\n",
      "==================================================\n",
      "Accuracy is 0.04247723822313427\n",
      "Iteration is 18\n",
      "==================================================\n",
      "Accuracy is 0.03481320258618519\n",
      "Iteration is 19\n",
      "==================================================\n",
      "Accuracy is 0.028539035176621725\n",
      "Iteration is 20\n",
      "==================================================\n",
      "Accuracy is 0.023402030240404353\n",
      "Iteration is 21\n",
      "==================================================\n",
      "Accuracy is 0.019195488394349224\n",
      "Iteration is 22\n",
      "==================================================\n",
      "Accuracy is 0.0157503341635428\n",
      "Iteration is 23\n",
      "==================================================\n",
      "Accuracy is 0.012928262357501283\n",
      "Iteration is 24\n",
      "==================================================\n",
      "Accuracy is 0.010616133777437161\n",
      "Iteration is 25\n",
      "==================================================\n",
      "Accuracy is 0.008721392210751864\n",
      "Iteration is 26\n",
      "==================================================\n",
      "Accuracy is 0.007168316452506496\n",
      "Iteration is 27\n",
      "==================================================\n",
      "Accuracy is 0.005894955132866081\n",
      "Iteration is 28\n",
      "==================================================\n",
      "Accuracy is 0.004850619909755733\n",
      "Iteration is 29\n",
      "==================================================\n",
      "Accuracy is 0.00399383527967821\n",
      "Iteration is 30\n",
      "==================================================\n",
      "Accuracy is 0.0032906618075158028\n",
      "Iteration is 31\n",
      "==================================================\n",
      "Accuracy is 0.0027133247396268776\n",
      "Iteration is 32\n",
      "==================================================\n",
      "Accuracy is 0.0022390923628811932\n",
      "Iteration is 33\n",
      "==================================================\n",
      "Accuracy is 0.0018493586105993252\n",
      "Iteration is 34\n",
      "==================================================\n",
      "Accuracy is 0.0015288927067791927\n",
      "Iteration is 35\n",
      "==================================================\n",
      "Accuracy is 0.0012652254197283905\n",
      "Iteration is 36\n",
      "==================================================\n",
      "Accuracy is 0.0010481470403534982\n",
      "Iteration is 37\n",
      "==================================================\n",
      "Accuracy is 0.0008692967344462769\n",
      "Iteration is 38\n",
      "==================================================\n",
      "Accuracy is 0.000721826626074644\n",
      "Iteration is 39\n",
      "==================================================\n",
      "Accuracy is 0.0006001270015072554\n",
      "Iteration is 40\n",
      "==================================================\n",
      "Accuracy is 0.0004996015029009556\n",
      "Iteration is 41\n",
      "==================================================\n",
      "Accuracy is 0.00041648320899018544\n",
      "Iteration is 42\n",
      "==================================================\n",
      "Accuracy is 0.0003476841585689655\n",
      "Iteration is 43\n",
      "==================================================\n",
      "Accuracy is 0.00029067222891606624\n",
      "Iteration is 44\n",
      "==================================================\n",
      "Accuracy is 0.00024337039053015647\n",
      "Iteration is 45\n",
      "==================================================\n",
      "Accuracy is 0.00020407426671806509\n",
      "Iteration is 46\n",
      "==================================================\n",
      "Accuracy is 0.0001713846682698921\n",
      "Iteration is 47\n",
      "==================================================\n",
      "Accuracy is 0.00014415238012650174\n",
      "Iteration is 48\n",
      "==================================================\n",
      "Accuracy is 0.0001214329728210553\n",
      "Iteration is 49\n",
      "==================================================\n",
      "Accuracy is 0.00010244981702560105\n",
      "Iteration is 50\n",
      "==================================================\n",
      "Accuracy is 8.656381101646687e-05\n",
      "Iteration is 51\n",
      "==================================================\n",
      "Accuracy is 7.324860194695729e-05\n",
      "Iteration is 52\n",
      "==================================================\n",
      "Accuracy is 6.207030333391191e-05\n",
      "Iteration is 53\n",
      "==================================================\n",
      "Accuracy is 5.267089240018717e-05\n",
      "Iteration is 54\n",
      "==================================================\n",
      "Accuracy is 4.475461902885959e-05\n",
      "Iteration is 55\n",
      "==================================================\n",
      "Accuracy is 3.8076879278980835e-05\n",
      "Iteration is 56\n",
      "==================================================\n",
      "Accuracy is 3.243510560775897e-05\n",
      "Iteration is 57\n",
      "==================================================\n",
      "Accuracy is 2.7661307050409226e-05\n",
      "Iteration is 58\n",
      "==================================================\n",
      "Accuracy is 2.361595914116822e-05\n",
      "Iteration is 59\n",
      "==================================================\n",
      "Accuracy is 2.0182997770928326e-05\n",
      "Iteration is 60\n",
      "==================================================\n",
      "Accuracy is 1.726571579710939e-05\n",
      "Iteration is 61\n",
      "==================================================\n",
      "Accuracy is 1.4783397816585845e-05\n",
      "Iteration is 62\n",
      "==================================================\n",
      "Accuracy is 1.2668558436926563e-05\n",
      "Iteration is 63\n",
      "==================================================\n",
      "Accuracy is 1.0864674005827234e-05\n",
      "Iteration is 64\n",
      "==================================================\n",
      "Accuracy is 9.324317819833755e-06\n",
      "Iteration is 65\n",
      "==================================================\n",
      "Accuracy is 8.007625352540992e-06\n",
      "Iteration is 66\n",
      "==================================================\n",
      "Accuracy is 6.8810295122496055e-06\n",
      "Iteration is 67\n",
      "==================================================\n",
      "Accuracy is 5.916216959315491e-06\n",
      "Iteration is 68\n",
      "==================================================\n",
      "Accuracy is 5.089265531062006e-06\n",
      "Iteration is 69\n",
      "==================================================\n",
      "Accuracy is 4.379930171290397e-06\n",
      "Iteration is 70\n",
      "==================================================\n",
      "Accuracy is 3.771050769609073e-06\n",
      "Iteration is 71\n",
      "==================================================\n",
      "Accuracy is 3.2480601785086514e-06\n",
      "Iteration is 72\n",
      "==================================================\n",
      "Accuracy is 2.798574706627451e-06\n",
      "Iteration is 73\n",
      "==================================================\n",
      "Accuracy is 2.4120525757548323e-06\n",
      "Iteration is 74\n",
      "==================================================\n",
      "Accuracy is 2.079508515634044e-06\n",
      "Iteration is 75\n",
      "==================================================\n",
      "Accuracy is 1.7932747837905824e-06\n",
      "Iteration is 76\n",
      "==================================================\n",
      "Accuracy is 1.546800673012538e-06\n",
      "Iteration is 77\n",
      "==================================================\n",
      "Accuracy is 1.3344839698768776e-06\n",
      "Iteration is 78\n",
      "==================================================\n",
      "Accuracy is 1.1515290216663547e-06\n",
      "Iteration is 79\n",
      "==================================================\n",
      "Accuracy is 9.938269641522212e-07\n",
      "Iteration is 80\n",
      "==================================================\n",
      "Accuracy is 8.578544895679078e-07\n",
      "Iteration is 81\n",
      "==================================================\n",
      "Accuracy is 7.40588132259782e-07\n",
      "Iteration is 82\n",
      "==================================================\n",
      "Accuracy is 6.394315747660901e-07\n",
      "Iteration is 83\n",
      "==================================================\n",
      "Accuracy is 5.521538964189909e-07\n",
      "Iteration is 84\n",
      "==================================================\n",
      "Accuracy is 4.7683705920896583e-07\n",
      "Iteration is 85\n",
      "==================================================\n",
      "Accuracy is 4.118311567999457e-07\n",
      "Iteration is 86\n",
      "==================================================\n",
      "Accuracy is 3.557162643908361e-07\n",
      "Iteration is 87\n",
      "==================================================\n",
      "Accuracy is 3.0726985344858e-07\n",
      "Iteration is 88\n",
      "==================================================\n",
      "Accuracy is 2.6543894378140156e-07\n",
      "Iteration is 89\n",
      "==================================================\n",
      "Accuracy is 2.2931626167597425e-07\n",
      "Iteration is 90\n",
      "==================================================\n",
      "Accuracy is 1.9811983839222803e-07\n",
      "Iteration is 91\n",
      "==================================================\n",
      "Accuracy is 1.7117550093858253e-07\n",
      "Iteration is 92\n",
      "==================================================\n",
      "Accuracy is 1.4790186773962397e-07\n",
      "Iteration is 93\n",
      "==================================================\n",
      "Accuracy is 1.2779745716748005e-07\n",
      "Iteration is 94\n",
      "==================================================\n",
      "Accuracy is 1.1042961487471178e-07\n",
      "Iteration is 95\n",
      "==================================================\n",
      "Accuracy is 9.542499730041107e-08\n",
      "Iteration is 96\n",
      "==================================================\n",
      "Accuracy is 8.246138615139131e-08\n",
      "Iteration is 97\n",
      "==================================================\n",
      "Accuracy is 7.12606449021284e-08\n",
      "Iteration is 98\n",
      "==================================================\n",
      "Accuracy is 6.158265364510052e-08\n",
      "Iteration is 99\n",
      "==================================================\n",
      "Accuracy is 5.322008846421215e-08\n",
      "Iteration is 100\n",
      "==================================================\n",
      "Accuracy is 4.599391992000004e-08\n",
      "Iteration is 101\n",
      "==================================================\n",
      "Accuracy is 3.97495407394448e-08\n",
      "Iteration is 102\n",
      "==================================================\n",
      "Accuracy is 3.435341730698182e-08\n",
      "Iteration is 103\n",
      "==================================================\n",
      "Accuracy is 2.9690209450218566e-08\n",
      "Iteration is 104\n",
      "==================================================\n",
      "Accuracy is 2.5660285979894543e-08\n",
      "Iteration is 105\n",
      "==================================================\n",
      "Accuracy is 2.217757985820402e-08\n",
      "Iteration is 106\n",
      "==================================================\n",
      "Accuracy is 1.9167731752095265e-08\n",
      "Iteration is 107\n",
      "==================================================\n",
      "Accuracy is 1.6566503852108417e-08\n",
      "Iteration is 108\n",
      "==================================================\n",
      "Accuracy is 1.4318388549651694e-08\n",
      "Iteration is 109\n",
      "==================================================\n",
      "Accuracy is 1.2375429198912105e-08\n",
      "Iteration is 110\n",
      "==================================================\n",
      "Accuracy is 1.0696185475153777e-08\n",
      "Iteration is 111\n",
      "==================================================\n",
      "Accuracy is 9.244849501253898e-09\n",
      "Iteration is 112\n"
     ]
    }
   ],
   "source": [
    "x = IterativeMethod(A, b, np.random.rand(5)).solve()"
   ]
  },
  {
   "cell_type": "code",
   "execution_count": 46,
   "metadata": {},
   "outputs": [
    {
     "data": {
      "text/plain": [
       "array([-5.25411914e-09, -1.59552580e-08, -6.48938370e-09, -1.05311160e-09,\n",
       "        8.22889712e-09])"
      ]
     },
     "execution_count": 46,
     "metadata": {},
     "output_type": "execute_result"
    }
   ],
   "source": [
    "np.dot(A, x) - b"
   ]
  },
  {
   "cell_type": "markdown",
   "metadata": {},
   "source": [
    "## Метод Гаусса-Зейделя"
   ]
  },
  {
   "cell_type": "code",
   "execution_count": 51,
   "metadata": {},
   "outputs": [
    {
     "ename": "SyntaxError",
     "evalue": "unexpected EOF while parsing (<ipython-input-51-40e280b2ec39>, line 1)",
     "output_type": "error",
     "traceback": [
      "\u001b[1;36m  File \u001b[1;32m\"<ipython-input-51-40e280b2ec39>\"\u001b[1;36m, line \u001b[1;32m1\u001b[0m\n\u001b[1;33m    class GaussSeidelMethod:\u001b[0m\n\u001b[1;37m                            ^\u001b[0m\n\u001b[1;31mSyntaxError\u001b[0m\u001b[1;31m:\u001b[0m unexpected EOF while parsing\n"
     ]
    }
   ],
   "source": [
    "class GaussSeidelMethod:\n",
    "    def solve(self, A, b, x0):\n",
    "        x = np.copy(x0)\n",
    "        "
   ]
  },
  {
   "cell_type": "code",
   "execution_count": null,
   "metadata": {},
   "outputs": [],
   "source": []
  }
 ],
 "metadata": {
  "kernelspec": {
   "display_name": "Python 3",
   "language": "python",
   "name": "python3"
  },
  "language_info": {
   "codemirror_mode": {
    "name": "ipython",
    "version": 3
   },
   "file_extension": ".py",
   "mimetype": "text/x-python",
   "name": "python",
   "nbconvert_exporter": "python",
   "pygments_lexer": "ipython3",
   "version": "3.7.1"
  }
 },
 "nbformat": 4,
 "nbformat_minor": 2
}
